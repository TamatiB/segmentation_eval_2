{
 "cells": [
  {
   "cell_type": "markdown",
   "metadata": {},
   "source": [
    "# ROI Size and Shape Evaluation"
   ]
  },
  {
   "cell_type": "code",
   "execution_count": 44,
   "metadata": {
    "collapsed": true
   },
   "outputs": [],
   "source": [
    "import pandas as pd\n",
    "import sys\n",
    "from matplotlib import pyplot as plt\n",
    "import numpy as np\n",
    "%matplotlib inline"
   ]
  },
  {
   "cell_type": "code",
   "execution_count": 12,
   "metadata": {
    "collapsed": true
   },
   "outputs": [],
   "source": [
    "manual_seg_path = \"manual_segmentation.xlsx\"\n",
    "thresh_seg_path = \"threshold_segmentation.xlsx\""
   ]
  },
  {
   "cell_type": "code",
   "execution_count": 13,
   "metadata": {
    "collapsed": false
   },
   "outputs": [
    {
     "data": {
      "text/html": [
       "<div>\n",
       "<table border=\"1\" class=\"dataframe\">\n",
       "  <thead>\n",
       "    <tr style=\"text-align: right;\">\n",
       "      <th></th>\n",
       "      <th></th>\n",
       "      <th>Area1</th>\n",
       "      <th>Mean1</th>\n",
       "      <th>Min1</th>\n",
       "      <th>Max1</th>\n",
       "      <th>XM1</th>\n",
       "      <th>YM1</th>\n",
       "      <th>BX1</th>\n",
       "      <th>BY1</th>\n",
       "      <th>Width1</th>\n",
       "      <th>...</th>\n",
       "      <th>Feret59</th>\n",
       "      <th>IntDen59</th>\n",
       "      <th>RawIntDen59</th>\n",
       "      <th>FeretX59</th>\n",
       "      <th>FeretY59</th>\n",
       "      <th>FeretAngle59</th>\n",
       "      <th>MinFeret59</th>\n",
       "      <th>AR59</th>\n",
       "      <th>Round59</th>\n",
       "      <th>Solidity59</th>\n",
       "    </tr>\n",
       "  </thead>\n",
       "  <tbody>\n",
       "    <tr>\n",
       "      <th>0</th>\n",
       "      <td>1</td>\n",
       "      <td>4943</td>\n",
       "      <td>-0.437</td>\n",
       "      <td>-0.524</td>\n",
       "      <td>-0.301</td>\n",
       "      <td>202.459</td>\n",
       "      <td>146.558</td>\n",
       "      <td>1</td>\n",
       "      <td>1</td>\n",
       "      <td>346</td>\n",
       "      <td>...</td>\n",
       "      <td>17.205</td>\n",
       "      <td>-79.925</td>\n",
       "      <td>-79.925</td>\n",
       "      <td>307</td>\n",
       "      <td>245</td>\n",
       "      <td>125.538</td>\n",
       "      <td>14</td>\n",
       "      <td>1.072</td>\n",
       "      <td>0.933</td>\n",
       "      <td>0.935</td>\n",
       "    </tr>\n",
       "    <tr>\n",
       "      <th>1</th>\n",
       "      <td>2</td>\n",
       "      <td>4943</td>\n",
       "      <td>-0.434</td>\n",
       "      <td>-0.536</td>\n",
       "      <td>-0.300</td>\n",
       "      <td>202.344</td>\n",
       "      <td>146.665</td>\n",
       "      <td>1</td>\n",
       "      <td>1</td>\n",
       "      <td>346</td>\n",
       "      <td>...</td>\n",
       "      <td>17.205</td>\n",
       "      <td>-79.855</td>\n",
       "      <td>-79.855</td>\n",
       "      <td>307</td>\n",
       "      <td>245</td>\n",
       "      <td>125.538</td>\n",
       "      <td>14</td>\n",
       "      <td>1.072</td>\n",
       "      <td>0.933</td>\n",
       "      <td>0.935</td>\n",
       "    </tr>\n",
       "    <tr>\n",
       "      <th>2</th>\n",
       "      <td>3</td>\n",
       "      <td>4943</td>\n",
       "      <td>-0.436</td>\n",
       "      <td>-0.522</td>\n",
       "      <td>-0.303</td>\n",
       "      <td>202.474</td>\n",
       "      <td>146.566</td>\n",
       "      <td>1</td>\n",
       "      <td>1</td>\n",
       "      <td>346</td>\n",
       "      <td>...</td>\n",
       "      <td>17.205</td>\n",
       "      <td>-79.995</td>\n",
       "      <td>-79.995</td>\n",
       "      <td>307</td>\n",
       "      <td>245</td>\n",
       "      <td>125.538</td>\n",
       "      <td>14</td>\n",
       "      <td>1.072</td>\n",
       "      <td>0.933</td>\n",
       "      <td>0.935</td>\n",
       "    </tr>\n",
       "    <tr>\n",
       "      <th>3</th>\n",
       "      <td>4</td>\n",
       "      <td>4943</td>\n",
       "      <td>-0.435</td>\n",
       "      <td>-0.529</td>\n",
       "      <td>-0.286</td>\n",
       "      <td>202.602</td>\n",
       "      <td>146.581</td>\n",
       "      <td>1</td>\n",
       "      <td>1</td>\n",
       "      <td>346</td>\n",
       "      <td>...</td>\n",
       "      <td>17.205</td>\n",
       "      <td>-79.948</td>\n",
       "      <td>-79.948</td>\n",
       "      <td>307</td>\n",
       "      <td>245</td>\n",
       "      <td>125.538</td>\n",
       "      <td>14</td>\n",
       "      <td>1.072</td>\n",
       "      <td>0.933</td>\n",
       "      <td>0.935</td>\n",
       "    </tr>\n",
       "    <tr>\n",
       "      <th>4</th>\n",
       "      <td>5</td>\n",
       "      <td>4943</td>\n",
       "      <td>-0.435</td>\n",
       "      <td>-0.521</td>\n",
       "      <td>-0.302</td>\n",
       "      <td>202.495</td>\n",
       "      <td>146.516</td>\n",
       "      <td>1</td>\n",
       "      <td>1</td>\n",
       "      <td>346</td>\n",
       "      <td>...</td>\n",
       "      <td>17.205</td>\n",
       "      <td>-79.898</td>\n",
       "      <td>-79.898</td>\n",
       "      <td>307</td>\n",
       "      <td>245</td>\n",
       "      <td>125.538</td>\n",
       "      <td>14</td>\n",
       "      <td>1.072</td>\n",
       "      <td>0.933</td>\n",
       "      <td>0.935</td>\n",
       "    </tr>\n",
       "  </tbody>\n",
       "</table>\n",
       "<p>5 rows × 1417 columns</p>\n",
       "</div>"
      ],
      "text/plain": [
       "      Area1  Mean1   Min1   Max1      XM1      YM1  BX1  BY1  Width1  \\\n",
       "0  1   4943 -0.437 -0.524 -0.301  202.459  146.558    1    1     346   \n",
       "1  2   4943 -0.434 -0.536 -0.300  202.344  146.665    1    1     346   \n",
       "2  3   4943 -0.436 -0.522 -0.303  202.474  146.566    1    1     346   \n",
       "3  4   4943 -0.435 -0.529 -0.286  202.602  146.581    1    1     346   \n",
       "4  5   4943 -0.435 -0.521 -0.302  202.495  146.516    1    1     346   \n",
       "\n",
       "      ...      Feret59  IntDen59  RawIntDen59  FeretX59  FeretY59  \\\n",
       "0     ...       17.205   -79.925      -79.925       307       245   \n",
       "1     ...       17.205   -79.855      -79.855       307       245   \n",
       "2     ...       17.205   -79.995      -79.995       307       245   \n",
       "3     ...       17.205   -79.948      -79.948       307       245   \n",
       "4     ...       17.205   -79.898      -79.898       307       245   \n",
       "\n",
       "   FeretAngle59  MinFeret59   AR59  Round59  Solidity59  \n",
       "0       125.538          14  1.072    0.933       0.935  \n",
       "1       125.538          14  1.072    0.933       0.935  \n",
       "2       125.538          14  1.072    0.933       0.935  \n",
       "3       125.538          14  1.072    0.933       0.935  \n",
       "4       125.538          14  1.072    0.933       0.935  \n",
       "\n",
       "[5 rows x 1417 columns]"
      ]
     },
     "execution_count": 13,
     "metadata": {},
     "output_type": "execute_result"
    }
   ],
   "source": [
    "path = thresh_seg_path\n",
    "df = pd.read_excel(path)\n",
    "df.head()"
   ]
  },
  {
   "cell_type": "markdown",
   "metadata": {},
   "source": [
    "Okay, so a few things:\n",
    "\n",
    "1. Ferets cannot be longer than a certain amount because uh\n",
    "2. Area so the things can be checked by area\n",
    "3. Circularity, ones under a certain circularity can be discarded\n",
    "4. Line profile. For this we can get the co ordinates of the box, apply it to the f380 image and draw a line and see the intensity, the other things are easy so I am actually going to start with this"
   ]
  },
  {
   "cell_type": "markdown",
   "metadata": {},
   "source": [
    "## Feret"
   ]
  },
  {
   "cell_type": "markdown",
   "metadata": {},
   "source": [
    "https://imagej.nih.gov/ij/docs/guide/146-30.html\n",
    "Okay so feret's diameter gives the max diameter of a ROI. ie max should not be smaller than 10u or larger than 30u. Conversion wise 1px = 1.3u for an image which is 340px by 260px . So, \n",
    "\n",
    "     23.1px < feret > 7.6px\n",
    "\n",
    "Feret - maximum caliper/ diameter\n",
    "FeretX and Y - starting co ordinates of the Feret diameter\n",
    "MinFeret - minimum caliper\n",
    "\n",
    "So then here we extract the ROI numbers which contain Ferets of the correct size"
   ]
  },
  {
   "cell_type": "code",
   "execution_count": 131,
   "metadata": {
    "collapsed": false
   },
   "outputs": [],
   "source": [
    "def feret_diam_test(df):\n",
    "    min_feret_diameter = 7.6\n",
    "    max_feret_diameter = 23.1\n",
    "    all_feret_df = df.filter(regex=(\"Feret.*\"), axis=1)\n",
    "    #I need to drop the FeretX, FeretY , MinFeret and FeretAngle columns\n",
    "    cols = [c for c in all_feret_df.columns if 'X' not in c and 'Y'not in c and 'M' not in c and 'Angle' not in c]\n",
    "    feret_df = all_feret_df[cols]\n",
    "    #accepted_ferret = [ferret for ferret in feret.iloc[1] if ferret > min_feret_diameter and ferret < max_feret_diameter]\n",
    "    max_ferret = feret_df.columns[(feret_df < max_feret_diameter).iloc[0]]\n",
    "    min_ferret = feret_df.columns[(feret_df > min_feret_diameter).iloc[0]]\n",
    "    common = list(set(list(max_ferret)).intersection(list(min_ferret)))\n",
    "    print (\"Number of cells regions originally: \", len(feret_df.iloc[1]))\n",
    "    print (\"Number of cells with suitable Feret diamter: \", len(common))\n",
    "    return common"
   ]
  },
  {
   "cell_type": "code",
   "execution_count": 132,
   "metadata": {
    "collapsed": false
   },
   "outputs": [
    {
     "name": "stdout",
     "output_type": "stream",
     "text": [
      "Number of cells regions originally:  59\n",
      "Number of cells with suitable Feret diamter:  28\n",
      "28\n"
     ]
    }
   ],
   "source": [
    "passed_ferret_test = feret_diam_test(df)\n",
    "print(len(passed_ferret_test))"
   ]
  },
  {
   "cell_type": "markdown",
   "metadata": {},
   "source": [
    "## Circularity "
   ]
  },
  {
   "cell_type": "markdown",
   "metadata": {},
   "source": [
    "Circulaity gives an indication of how round the shapes are.\n",
    "\n",
    "    circularity = 4pi x (area/(perimeter^2))\n",
    "    \n",
    "https://imagej.nih.gov/ij/docs/guide/146-30.html\n",
    "\n",
    "I still have to decide on a suitable circularity value. I am not so sure how to decide this. Perhaps I can check all the cells that have signal responses and then check their circulairty and then use the average of what I can getfrom that"
   ]
  },
  {
   "cell_type": "code",
   "execution_count": 364,
   "metadata": {
    "collapsed": false
   },
   "outputs": [],
   "source": [
    "def circularity_test(df):\n",
    "    min_circ = 0.5\n",
    "    circ_df = df.filter(regex=(\"Circ.*\"), axis=1)\n",
    "    #accepted_circ = [circ for circ in circ_df.iloc[1] if circ > min_circ]\n",
    "    accepted_circvals = circ_df.columns[(circ_df > min_circ).iloc[0]]\n",
    "    print (\"Number of cells regions originally: \", len(circ_df.iloc[1]))\n",
    "    print (\"Number of cells with suitable circularity: \", len(accepted_circvals))\n",
    "    return accepted_circvals"
   ]
  },
  {
   "cell_type": "code",
   "execution_count": 365,
   "metadata": {
    "collapsed": false
   },
   "outputs": [
    {
     "name": "stdout",
     "output_type": "stream",
     "text": [
      "Number of cells regions originally:  59\n",
      "Number of cells with suitable circularity:  56\n"
     ]
    }
   ],
   "source": [
    "passed_circ_test = circularity_test(df)"
   ]
  },
  {
   "cell_type": "code",
   "execution_count": 126,
   "metadata": {
    "collapsed": false
   },
   "outputs": [],
   "source": [
    "def circularity_test_on_passed_ferret(ferret_ar, df):\n",
    "    import re\n",
    "    passed_feret_roinum = []\n",
    "    for roi in ferret_ar:\n",
    "        passed_feret_roinum.append(re.findall('\\d+', roi )) \n",
    "    min_circ = 0.5\n",
    "    circ_df = df.filter(regex=(\"Circ.*\"), axis=1)\n",
    "    circ_columns = []\n",
    "    for column in circ_df.columns:\n",
    "        if re.findall('\\d+', column ) in passed_feret_roinum:\n",
    "            circ_columns.append(column)\n",
    "\n",
    "    passedferret_circdf = circ_df.filter(circ_columns, axis=1)\n",
    "    #accepted_circ = [circ for circ in circ_df.iloc[1] if circ > min_circ]\n",
    "    accepted_circvals = passedferret_circdf.columns[(passedferret_circdf > min_circ).iloc[0]]\n",
    "    print (\"Number of cells regions originally: \", len(circ_df.iloc[1]))\n",
    "    print (\"Number of cells with suitable circularity and feret number: \", len(accepted_circvals))\n",
    "    return accepted_circvals"
   ]
  },
  {
   "cell_type": "code",
   "execution_count": 125,
   "metadata": {
    "collapsed": false
   },
   "outputs": [
    {
     "name": "stdout",
     "output_type": "stream",
     "text": [
      "Number of cells regions originally:  59\n",
      "Number of cells with suitable circularity and feret number:  23\n"
     ]
    }
   ],
   "source": [
    "passed_circ_test = circularity_test_on_passed_ferret(passed_ferret_test, df)"
   ]
  },
  {
   "cell_type": "markdown",
   "metadata": {},
   "source": [
    "## Line Profile"
   ]
  },
  {
   "cell_type": "markdown",
   "metadata": {},
   "source": [
    "I need to be able to get a line accross the roi. Actually it would be best to get the line at the angle of the feret, which I actually have so I can use it. But for now I just need to get the intensities of a certain line of pixels in the image (data set 2, image) as decided by the ROI (data set 1, excel sheet) \n",
    "\n",
    "We use the bounding box, which gives BX and BY which are the co ordinates of the upper left corner of the box"
   ]
  },
  {
   "cell_type": "code",
   "execution_count": 4,
   "metadata": {
    "collapsed": false
   },
   "outputs": [
    {
     "data": {
      "text/plain": [
       "(348, 260)"
      ]
     },
     "execution_count": 4,
     "metadata": {},
     "output_type": "execute_result"
    }
   ],
   "source": [
    "from PIL import Image, ImageDraw\n",
    "\n",
    "im = Image.open('std_ratio.jpg')\n",
    "plt.imshow(im, interpolation='nearest')\n",
    "pixels = list(im.getdata())\n",
    "width, height = im.size\n",
    "#this puts the long array of values into a list of lists (actually rows within the image)\n",
    "pixels = [pixels[i * width:(i + 1) * width] for i in range(height)]\n",
    "#print (len(pixels), len(pixels[1]))"
   ]
  },
  {
   "cell_type": "code",
   "execution_count": 8,
   "metadata": {
    "collapsed": false,
    "scrolled": true
   },
   "outputs": [],
   "source": [
    "def boundbox_params(roi_number):\n",
    "    regex_string = roi_number + '.*'\n",
    "    roi_df = df.filter(regex=(regex_string), axis=1)\n",
    "    bx_roi = roi_df[\"BX\" + roi_number ][0]\n",
    "    by_roi = roi_df[\"BY\" + roi_number][0]\n",
    "    b_width = roi_df[\"Width\" + roi_number][0]\n",
    "    b_height = roi_df[\"Height\" + roi_number][0] \n",
    "    return (bx_roi, by_roi, b_width, b_height)"
   ]
  },
  {
   "cell_type": "markdown",
   "metadata": {},
   "source": [
    "The translation for co ordinates (x, y) to be referenced in the pixels data thing is (y-1, x-1) and that will return the same pixel value"
   ]
  },
  {
   "cell_type": "markdown",
   "metadata": {},
   "source": [
    "Horizontal Profile"
   ]
  },
  {
   "cell_type": "code",
   "execution_count": 19,
   "metadata": {
    "collapsed": false
   },
   "outputs": [],
   "source": [
    "def horizontal_profile(bx_roi, by_roi, b_height, b_width):\n",
    "    # and so but we want a horizontal line from (191, 207 + 14/2) to (191+12, 207+(14/2))\n",
    "    # translated by our system we want (213, 190) to (213,202)\n",
    "    falsex = bx_roi - 1\n",
    "    falsey = int(by_roi + (b_height/2)) -1\n",
    "    histo_hor = []\n",
    "    for x in range(falsex, falsex + b_width ):\n",
    "    #for x in range(190, 202):\n",
    "        histo_hor.append(pixels[falsey][x])\n",
    "    plt.plot(histo_hor) \n",
    "    plt.show()\n",
    "    return histo_hor"
   ]
  },
  {
   "cell_type": "markdown",
   "metadata": {},
   "source": [
    "Vertical Profile"
   ]
  },
  {
   "cell_type": "code",
   "execution_count": 50,
   "metadata": {
    "collapsed": false
   },
   "outputs": [],
   "source": [
    "def vertical_profile(bx_roi, by_roi, b_height, b_width):\n",
    "    # and so but we want a vertical line from (191 + 12/2, 207) to (191+12/2, 207+14)\n",
    "    # translated by our system we want (206, 196) to (220,196)\n",
    "    falsex = int (bx_roi + b_width/2) -1\n",
    "    falsey = by_roi -1 \n",
    "    histo_vert = []\n",
    "    for y in range(falsey, falsey + b_height):\n",
    "    #for y in range(206, 220):\n",
    "        histo_vert.append(pixels[y][falsex])\n",
    "    plt.plot(histo_vert) \n",
    "    plt.show()\n",
    "    return histo_vert"
   ]
  },
  {
   "cell_type": "markdown",
   "metadata": {},
   "source": [
    "Pearson gaussian correlation coeff"
   ]
  },
  {
   "cell_type": "code",
   "execution_count": 89,
   "metadata": {
    "collapsed": false
   },
   "outputs": [],
   "source": [
    "def pearson_gauss_fir(y_vals):\n",
    "    import pylab as plb\n",
    "    import matplotlib.pyplot as plt\n",
    "    from scipy.optimize import curve_fit\n",
    "    from scipy import asarray as ar,exp\n",
    "    from scipy import stats\n",
    "\n",
    "    x = ar(range(len(y_vals)))\n",
    "    y = ar(y_vals)\n",
    "\n",
    "    n = len(x)                          #the number of data\n",
    "    #mean = sum(x*y)/n                   #note this correction\n",
    "    #sigma = sum(y*(x-mean)**2)/n        #note this correction\n",
    "\n",
    "    def gaus(x,a,x0,sigma):\n",
    "        return a*exp(-(x-x0)**2/(2*sigma**2))\n",
    "\n",
    "    popt,pcov = curve_fit(gaus,x,y)\n",
    "    plt.plot(x,y,'b+:',label='data')\n",
    "    plt.plot(x,gaus(x,*popt),'ro:',label='fit')\n",
    "    plt.legend()\n",
    "    plt.title('Vertical LIne profile with Gaussian Fit')\n",
    "    plt.xlabel('Relative Vertical Position in ROI')\n",
    "    plt.ylabel('Grey Value')\n",
    "    plt.show()\n",
    "\n",
    "    return stats.pearsonr(gaus(x,*popt), y)"
   ]
  },
  {
   "cell_type": "markdown",
   "metadata": {},
   "source": [
    "The most familiar measure of dependence between two quantities is the Pearson product-moment correlation coefficient,\n",
    "https://en.wikipedia.org/wiki/Correlation_and_dependence#Pearson.27s_product-moment_coefficient\n",
    "\n",
    "Returns :\n",
    "\n",
    "(Pearson’s correlation coefficient, : 2-tailed p-value)\n",
    "\n",
    "Like other correlation coefficients, this one varies between -1 and +1 with 0 implying no correlation. Correlations of -1 or +1 imply an exact linear relationship. Positive correlations imply that as x increases, so does y. Negative correlations imply that as x increases, y decreases."
   ]
  },
  {
   "cell_type": "code",
   "execution_count": 96,
   "metadata": {
    "collapsed": false
   },
   "outputs": [
    {
     "data": {
      "image/png": "[encoded data removed]",
      "text/plain": [
       "<matplotlib.figure.Figure at 0x598c11a2e8>"
      ]
     },
     "metadata": {},
     "output_type": "display_data"
    },
    {
     "data": {
      "image/png": "[encoded data removed]",
      "text/plain": [
       "<matplotlib.figure.Figure at 0x5984b866d8>"
      ]
     },
     "metadata": {},
     "output_type": "display_data"
    },
    {
     "data": {
      "image/png": "[encoded data removed]",
      "text/plain": [
       "<matplotlib.figure.Figure at 0x598511bb38>"
      ]
     },
     "metadata": {},
     "output_type": "display_data"
    },
    {
     "name": "stdout",
     "output_type": "stream",
     "text": [
      "(0.8485688587280783, 0.00048355617456092794)\n"
     ]
    },
    {
     "data": {
      "image/png": "[encoded data removed]",
      "text/plain": [
       "<matplotlib.figure.Figure at 0x5984fcdc18>"
      ]
     },
     "metadata": {},
     "output_type": "display_data"
    },
    {
     "name": "stdout",
     "output_type": "stream",
     "text": [
      "(0.90517560727606894, 8.5326959301398425e-06)\n"
     ]
    }
   ],
   "source": [
    "roi = '49'\n",
    "x, y, height, width = boundbox_params(roi)\n",
    "histo_hor =  horizontal_profile(x, y, height, width)\n",
    "histo_vert =  vertical_profile(x, y, height, width)\n",
    "result = pearson_gauss_fir(histo_vert)\n",
    "print(result)\n",
    "result = pearson_gauss_fir(histo_hor)\n",
    "print(result)\n"
   ]
  },
  {
   "cell_type": "code",
   "execution_count": null,
   "metadata": {
    "collapsed": true
   },
   "outputs": [],
   "source": []
  }
 ],
 "metadata": {
  "kernelspec": {
   "display_name": "Python 3",
   "language": "python",
   "name": "python3"
  },
  "language_info": {
   "codemirror_mode": {
    "name": "ipython",
    "version": 3
   },
   "file_extension": ".py",
   "mimetype": "text/x-python",
   "name": "python",
   "nbconvert_exporter": "python",
   "pygments_lexer": "ipython3",
   "version": "3.6.0"
  }
 },
 "nbformat": 4,
 "nbformat_minor": 2
}
